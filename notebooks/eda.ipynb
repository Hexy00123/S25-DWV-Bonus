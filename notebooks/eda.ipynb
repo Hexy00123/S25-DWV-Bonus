{
 "cells": [
  {
   "cell_type": "code",
   "execution_count": 1,
   "id": "34f1be4c",
   "metadata": {},
   "outputs": [],
   "source": [
    "import json\n",
    "import re\n",
    "import polars as pl \n",
    "import seaborn as sns\n",
    "import matplotlib.pyplot as plt\n",
    "import string"
   ]
  },
  {
   "cell_type": "code",
   "execution_count": 2,
   "id": "80103481",
   "metadata": {},
   "outputs": [
    {
     "data": {
      "text/html": [
       "<div><style>\n",
       ".dataframe > thead > tr,\n",
       ".dataframe > tbody > tr {\n",
       "  text-align: right;\n",
       "  white-space: pre-wrap;\n",
       "}\n",
       "</style>\n",
       "<small>shape: (8_000, 8)</small><table border=\"1\" class=\"dataframe\"><thead><tr><th>title</th><th>full_title</th><th>requirements</th><th>n_requirements</th><th>level</th><th>experience_years</th><th>place</th><th>country</th></tr><tr><td>str</td><td>str</td><td>list[str]</td><td>i32</td><td>str</td><td>i32</td><td>str</td><td>str</td></tr></thead><tbody><tr><td>&quot;Project Management Apprentices…</td><td>&quot;Project Management Apprentices…</td><td>[&quot;Currently attending high school, completed high school, or enrolled until the second semester in Technology or Bachelors degree courses&quot;, &quot;Less than 1 year of project management experience&quot;]</td><td>2</td><td>&quot;INTERN_AND_APPRENTICE&quot;</td><td>1</td><td>&quot;São Paulo, State of São Paulo,…</td><td>&quot;Brazil&quot;</td></tr><tr><td>&quot;Associate Software Developer I…</td><td>&quot;Associate Software Developer I…</td><td>[&quot;Currently pursuing a Bachelors degree in Computer Science or related technical field of study&quot;, &quot;Experience programming in either Java, C, or Python&quot;]</td><td>2</td><td>&quot;INTERN_AND_APPRENTICE&quot;</td><td>0</td><td>&quot;Sydney NSW, Australia&quot;</td><td>&quot;Australia&quot;</td></tr><tr><td>&quot;Software Engineering Intern&quot;</td><td>&quot;Software Engineering Intern, 2…</td><td>[&quot;Due to local compliance requirements, applicants must be currently pursuing a Bachelors degree in Computer Science or related technical field at a university in Mexico City with an expected graduation date in December 2025&quot;, &quot;Experience writing code fixes and programming in one or more of the following languages C, C, Java, JavaScript, Python, or Golang Go&quot;]</td><td>2</td><td>&quot;INTERN_AND_APPRENTICE&quot;</td><td>0</td><td>&quot;Mexico City, CDMX, Mexico&quot;</td><td>&quot;Mexico&quot;</td></tr><tr><td>&quot;Sourcing Specialist&quot;</td><td>&quot;Sourcing Specialist, gReach Pr…</td><td>[&quot;Bachelors degree or equivalent practical experience&quot;, &quot;1 year experience in recruiting or related HR field&quot;, &quot;Ability to communicate in English and Japanese fluently in order to interact with internal and external stakeholders&quot;]</td><td>3</td><td>&quot;INTERN_AND_APPRENTICE&quot;</td><td>1</td><td>&quot;Tokyo, Japan&quot;</td><td>&quot;Japan&quot;</td></tr><tr><td>&quot;Student Researcher&quot;</td><td>&quot;Student Researcher, PhD, Winte…</td><td>[&quot;Currently enrolled in a PhD degree in Computer Science, Linguistics, Statistics, Biostatistics, Applied Mathematics, Operations Research, Economics, Natural Sciences, or related technical field&quot;, &quot;Experience in one area of computer science eg, Natural Language Understanding, Human Computer Interactions, Computer Vision, Machine Learning, Deep Learning, Algorithmic Foundations of Optimization, Quantum Information Science, Data Science, Software Engineering, or similar areas&quot;]</td><td>2</td><td>&quot;INTERN_AND_APPRENTICE&quot;</td><td>0</td><td>&quot;Mountain View, CA, USA&quot;</td><td>&quot;USA&quot;</td></tr><tr><td>&hellip;</td><td>&hellip;</td><td>&hellip;</td><td>&hellip;</td><td>&hellip;</td><td>&hellip;</td><td>&hellip;</td><td>&hellip;</td></tr><tr><td>&quot;Distinguished Engineer&quot;</td><td>&quot;Distinguished Engineer, Obliga…</td><td>[&quot;Bachelors degree in Computer Science, similar technical field of study, or equivalent practical experience&quot;, &quot;15 years of professional experience in software engineering&quot;, &quot;15 years of experience leading in a technical capacity or leading technical risk analysis in an enterprise environment&quot;]</td><td>3</td><td>&quot;DIRECTOR_PLUS&quot;</td><td>15</td><td>&quot;Sunnyvale, CA, USA&quot;</td><td>&quot;USA&quot;</td></tr><tr><td>&quot;Distinguished Engineer&quot;</td><td>&quot;Distinguished Engineer, Demand…</td><td>[&quot;Bachelors Degree in Computer Science, a related field, or equivalent practical experience&quot;, &quot;15 years of software engineering experience building and working with systems in a technology organization&quot;, &quot;10 years of experience in applying forecasting, optimization, and supply chain management to solve problems&quot;]</td><td>3</td><td>&quot;DIRECTOR_PLUS&quot;</td><td>12</td><td>&quot;Seattle, WA, USA&quot;</td><td>&quot;USA&quot;</td></tr><tr><td>&quot;Director&quot;</td><td>&quot;Director, Technical Program Ma…</td><td>[&quot;Bachelors degree in ITComputer Science or equivalent practical experience&quot;, &quot;15 years of experience running and delivering results on projects across regions and teams&quot;, &quot;10 years of experience in program management, with a focus on technology operations&quot;]</td><td>3</td><td>&quot;DIRECTOR_PLUS&quot;</td><td>12</td><td>&quot;Sunnyvale, CA, USA&quot;</td><td>&quot;USA&quot;</td></tr><tr><td>&quot;Principal Engineer&quot;</td><td>&quot;Principal Engineer, Data Index…</td><td>[&quot;Bachelors degree in Computer Science, Electrical Engineering, a similar technical field, or equivalent practical experience&quot;, &quot;15 years of software engineering experience&quot;, … &quot;Experience with thought leadership, identifying and designing problems commensurate with Principal Engineer scope and difficulty&quot;]</td><td>4</td><td>&quot;DIRECTOR_PLUS&quot;</td><td>15</td><td>&quot;Sunnyvale, CA, USA&quot;</td><td>&quot;USA&quot;</td></tr><tr><td>&quot;Principal Engineer&quot;</td><td>&quot;Principal Engineer, AI, Trust,…</td><td>[&quot;Bachelors degree in Computer Science, similar technical field, or equivalent practical experience&quot;, &quot;Experience in technical leadership and setting technical direction for engineering projects&quot;, &quot;Experience in architecting, designing, and developing distributed systems&quot;]</td><td>3</td><td>&quot;DIRECTOR_PLUS&quot;</td><td>0</td><td>&quot;Zürich, Switzerland&quot;</td><td>&quot;Switzerland&quot;</td></tr></tbody></table></div>"
      ],
      "text/plain": [
       "shape: (8_000, 8)\n",
       "┌────────────┬────────────┬────────────┬───────────┬───────────┬───────────┬───────────┬───────────┐\n",
       "│ title      ┆ full_title ┆ requiremen ┆ n_require ┆ level     ┆ experienc ┆ place     ┆ country   │\n",
       "│ ---        ┆ ---        ┆ ts         ┆ ments     ┆ ---       ┆ e_years   ┆ ---       ┆ ---       │\n",
       "│ str        ┆ str        ┆ ---        ┆ ---       ┆ str       ┆ ---       ┆ str       ┆ str       │\n",
       "│            ┆            ┆ list[str]  ┆ i32       ┆           ┆ i32       ┆           ┆           │\n",
       "╞════════════╪════════════╪════════════╪═══════════╪═══════════╪═══════════╪═══════════╪═══════════╡\n",
       "│ Project    ┆ Project    ┆ [\"Currentl ┆ 2         ┆ INTERN_AN ┆ 1         ┆ São       ┆ Brazil    │\n",
       "│ Management ┆ Management ┆ y          ┆           ┆ D_APPRENT ┆           ┆ Paulo,    ┆           │\n",
       "│ Apprentice ┆ Apprentice ┆ attending  ┆           ┆ ICE       ┆           ┆ State of  ┆           │\n",
       "│ s…         ┆ s…         ┆ high sch…  ┆           ┆           ┆           ┆ São       ┆           │\n",
       "│            ┆            ┆            ┆           ┆           ┆           ┆ Paulo,…   ┆           │\n",
       "│ Associate  ┆ Associate  ┆ [\"Currentl ┆ 2         ┆ INTERN_AN ┆ 0         ┆ Sydney    ┆ Australia │\n",
       "│ Software   ┆ Software   ┆ y pursuing ┆           ┆ D_APPRENT ┆           ┆ NSW,      ┆           │\n",
       "│ Developer  ┆ Developer  ┆ a Bachelo… ┆           ┆ ICE       ┆           ┆ Australia ┆           │\n",
       "│ I…         ┆ I…         ┆            ┆           ┆           ┆           ┆           ┆           │\n",
       "│ Software   ┆ Software   ┆ [\"Due to   ┆ 2         ┆ INTERN_AN ┆ 0         ┆ Mexico    ┆ Mexico    │\n",
       "│ Engineerin ┆ Engineerin ┆ local      ┆           ┆ D_APPRENT ┆           ┆ City,     ┆           │\n",
       "│ g Intern   ┆ g Intern,  ┆ compliance ┆           ┆ ICE       ┆           ┆ CDMX,     ┆           │\n",
       "│            ┆ 2…         ┆ requ…      ┆           ┆           ┆           ┆ Mexico    ┆           │\n",
       "│ Sourcing   ┆ Sourcing   ┆ [\"Bachelor ┆ 3         ┆ INTERN_AN ┆ 1         ┆ Tokyo,    ┆ Japan     │\n",
       "│ Specialist ┆ Specialist ┆ s degree   ┆           ┆ D_APPRENT ┆           ┆ Japan     ┆           │\n",
       "│            ┆ , gReach   ┆ or         ┆           ┆ ICE       ┆           ┆           ┆           │\n",
       "│            ┆ Pr…        ┆ equivale…  ┆           ┆           ┆           ┆           ┆           │\n",
       "│ Student    ┆ Student    ┆ [\"Currentl ┆ 2         ┆ INTERN_AN ┆ 0         ┆ Mountain  ┆ USA       │\n",
       "│ Researcher ┆ Researcher ┆ y enrolled ┆           ┆ D_APPRENT ┆           ┆ View, CA, ┆           │\n",
       "│            ┆ , PhD,     ┆ in a PhD … ┆           ┆ ICE       ┆           ┆ USA       ┆           │\n",
       "│            ┆ Winte…     ┆            ┆           ┆           ┆           ┆           ┆           │\n",
       "│ …          ┆ …          ┆ …          ┆ …         ┆ …         ┆ …         ┆ …         ┆ …         │\n",
       "│ Distinguis ┆ Distinguis ┆ [\"Bachelor ┆ 3         ┆ DIRECTOR_ ┆ 15        ┆ Sunnyvale ┆ USA       │\n",
       "│ hed        ┆ hed        ┆ s degree   ┆           ┆ PLUS      ┆           ┆ , CA, USA ┆           │\n",
       "│ Engineer   ┆ Engineer,  ┆ in         ┆           ┆           ┆           ┆           ┆           │\n",
       "│            ┆ Obliga…    ┆ Computer…  ┆           ┆           ┆           ┆           ┆           │\n",
       "│ Distinguis ┆ Distinguis ┆ [\"Bachelor ┆ 3         ┆ DIRECTOR_ ┆ 12        ┆ Seattle,  ┆ USA       │\n",
       "│ hed        ┆ hed        ┆ s Degree   ┆           ┆ PLUS      ┆           ┆ WA, USA   ┆           │\n",
       "│ Engineer   ┆ Engineer,  ┆ in         ┆           ┆           ┆           ┆           ┆           │\n",
       "│            ┆ Demand…    ┆ Computer…  ┆           ┆           ┆           ┆           ┆           │\n",
       "│ Director   ┆ Director,  ┆ [\"Bachelor ┆ 3         ┆ DIRECTOR_ ┆ 12        ┆ Sunnyvale ┆ USA       │\n",
       "│            ┆ Technical  ┆ s degree   ┆           ┆ PLUS      ┆           ┆ , CA, USA ┆           │\n",
       "│            ┆ Program    ┆ in         ┆           ┆           ┆           ┆           ┆           │\n",
       "│            ┆ Ma…        ┆ ITComput…  ┆           ┆           ┆           ┆           ┆           │\n",
       "│ Principal  ┆ Principal  ┆ [\"Bachelor ┆ 4         ┆ DIRECTOR_ ┆ 15        ┆ Sunnyvale ┆ USA       │\n",
       "│ Engineer   ┆ Engineer,  ┆ s degree   ┆           ┆ PLUS      ┆           ┆ , CA, USA ┆           │\n",
       "│            ┆ Data       ┆ in         ┆           ┆           ┆           ┆           ┆           │\n",
       "│            ┆ Index…     ┆ Computer…  ┆           ┆           ┆           ┆           ┆           │\n",
       "│ Principal  ┆ Principal  ┆ [\"Bachelor ┆ 3         ┆ DIRECTOR_ ┆ 0         ┆ Zürich,   ┆ Switzerla │\n",
       "│ Engineer   ┆ Engineer,  ┆ s degree   ┆           ┆ PLUS      ┆           ┆ Switzerla ┆ nd        │\n",
       "│            ┆ AI,        ┆ in         ┆           ┆           ┆           ┆ nd        ┆           │\n",
       "│            ┆ Trust,…    ┆ Computer…  ┆           ┆           ┆           ┆           ┆           │\n",
       "└────────────┴────────────┴────────────┴───────────┴───────────┴───────────┴───────────┴───────────┘"
      ]
     },
     "execution_count": 2,
     "metadata": {},
     "output_type": "execute_result"
    }
   ],
   "source": [
    "def remove_punkt(text):\n",
    "  \"\"\"\n",
    "  Remove everything except commas from the text.\n",
    "  \"\"\"\n",
    "  punkt = (string.punctuation + '’').replace(',', '')\n",
    "  return text.translate(str.maketrans('', '', punkt))\n",
    "\n",
    "def find_experience_years(requirements: list) -> int: \n",
    "  regex = re.compile(r'(?P<years>\\d+) years?')\n",
    "  results = [] \n",
    "  for req in requirements:\n",
    "    match = regex.search(req)\n",
    "    if match:\n",
    "      results.append(int(match.group('years')))\n",
    "  return int(sum(results) / len(results)) if results else 0  \n",
    "\n",
    "data = pl.read_json('../data/google_vacancies.json')\n",
    "data = data.with_columns(data['requirements'].map_elements(lambda x: len(x), return_dtype=pl.Int32).alias('n_requirements')) \n",
    "data = data.with_columns(data['title'].alias('full_title'))\n",
    "data = data.with_columns(data['title'].map_elements(lambda x: x.split(',')[0], return_dtype=pl.Utf8).alias('title'))\n",
    "data = data.with_columns(data['country'].map_elements(str.strip, return_dtype=pl.Utf8))\n",
    "data = data.with_columns(data['requirements'].map_elements(lambda x: list(map(remove_punkt, x)), return_dtype=pl.List(pl.Utf8)))\n",
    "data = data.with_columns(data['requirements'].map_elements(lambda x: find_experience_years(x), return_dtype=pl.Int32).alias('experience_years'))\n",
    "\n",
    "data = data['title', 'full_title', 'requirements', 'n_requirements', 'level', 'experience_years', 'place', 'country']\n",
    "data"
   ]
  },
  {
   "cell_type": "code",
   "execution_count": 3,
   "id": "8ff1debd",
   "metadata": {},
   "outputs": [
    {
     "data": {
      "text/html": [
       "<div><style>\n",
       ".dataframe > thead > tr,\n",
       ".dataframe > tbody > tr {\n",
       "  text-align: right;\n",
       "  white-space: pre-wrap;\n",
       "}\n",
       "</style>\n",
       "<small>shape: (20, 2)</small><table border=\"1\" class=\"dataframe\"><thead><tr><th>country</th><th>count</th></tr><tr><td>str</td><td>u32</td></tr></thead><tbody><tr><td>&quot;USA&quot;</td><td>3600</td></tr><tr><td>&quot;India&quot;</td><td>1120</td></tr><tr><td>&quot;Ireland&quot;</td><td>400</td></tr><tr><td>&quot;Japan&quot;</td><td>400</td></tr><tr><td>&quot;Mexico&quot;</td><td>320</td></tr><tr><td>&hellip;</td><td>&hellip;</td></tr><tr><td>&quot;Brazil&quot;</td><td>80</td></tr><tr><td>&quot;Malaysia&quot;</td><td>80</td></tr><tr><td>&quot;South Korea&quot;</td><td>80</td></tr><tr><td>&quot;Romania&quot;</td><td>80</td></tr><tr><td>&quot;Singapore&quot;</td><td>80</td></tr></tbody></table></div>"
      ],
      "text/plain": [
       "shape: (20, 2)\n",
       "┌─────────────┬───────┐\n",
       "│ country     ┆ count │\n",
       "│ ---         ┆ ---   │\n",
       "│ str         ┆ u32   │\n",
       "╞═════════════╪═══════╡\n",
       "│ USA         ┆ 3600  │\n",
       "│ India       ┆ 1120  │\n",
       "│ Ireland     ┆ 400   │\n",
       "│ Japan       ┆ 400   │\n",
       "│ Mexico      ┆ 320   │\n",
       "│ …           ┆ …     │\n",
       "│ Brazil      ┆ 80    │\n",
       "│ Malaysia    ┆ 80    │\n",
       "│ South Korea ┆ 80    │\n",
       "│ Romania     ┆ 80    │\n",
       "│ Singapore   ┆ 80    │\n",
       "└─────────────┴───────┘"
      ]
     },
     "execution_count": 3,
     "metadata": {},
     "output_type": "execute_result"
    }
   ],
   "source": [
    "data.group_by('country').agg(pl.len().alias('count')).sort('count', descending=True)"
   ]
  },
  {
   "cell_type": "code",
   "execution_count": 4,
   "id": "35f9c615",
   "metadata": {},
   "outputs": [
    {
     "data": {
      "text/html": [
       "<div><style>\n",
       ".dataframe > thead > tr,\n",
       ".dataframe > tbody > tr {\n",
       "  text-align: right;\n",
       "  white-space: pre-wrap;\n",
       "}\n",
       "</style>\n",
       "<small>shape: (20, 2)</small><table border=\"1\" class=\"dataframe\"><thead><tr><th>requirements</th><th>count</th></tr><tr><td>str</td><td>u32</td></tr></thead><tbody><tr><td>&quot;Bachelors degree or equivalent…</td><td>2880</td></tr><tr><td>&quot;Experience in one area of comp…</td><td>480</td></tr><tr><td>&quot;1 year of experience with soft…</td><td>400</td></tr><tr><td>&quot;5 years of experience testing,…</td><td>240</td></tr><tr><td>&quot;Bachelors degree in Computer S…</td><td>240</td></tr><tr><td>&hellip;</td><td>&hellip;</td></tr><tr><td>&quot;2 years of experience with sof…</td><td>160</td></tr><tr><td>&quot;Experience in technical leader…</td><td>160</td></tr><tr><td>&quot;Bachelors degree in ITComputer…</td><td>160</td></tr><tr><td>&quot;Bachelors degree in Computer S…</td><td>160</td></tr><tr><td>&quot;10 years of experience in prod…</td><td>160</td></tr></tbody></table></div>"
      ],
      "text/plain": [
       "shape: (20, 2)\n",
       "┌─────────────────────────────────┬───────┐\n",
       "│ requirements                    ┆ count │\n",
       "│ ---                             ┆ ---   │\n",
       "│ str                             ┆ u32   │\n",
       "╞═════════════════════════════════╪═══════╡\n",
       "│ Bachelors degree or equivalent… ┆ 2880  │\n",
       "│ Experience in one area of comp… ┆ 480   │\n",
       "│ 1 year of experience with soft… ┆ 400   │\n",
       "│ 5 years of experience testing,… ┆ 240   │\n",
       "│ Bachelors degree in Computer S… ┆ 240   │\n",
       "│ …                               ┆ …     │\n",
       "│ 2 years of experience with sof… ┆ 160   │\n",
       "│ Experience in technical leader… ┆ 160   │\n",
       "│ Bachelors degree in ITComputer… ┆ 160   │\n",
       "│ Bachelors degree in Computer S… ┆ 160   │\n",
       "│ 10 years of experience in prod… ┆ 160   │\n",
       "└─────────────────────────────────┴───────┘"
      ]
     },
     "execution_count": 4,
     "metadata": {},
     "output_type": "execute_result"
    }
   ],
   "source": [
    "data.explode(pl.col('requirements')).group_by('requirements').agg(pl.len().alias('count')).sort('count', descending=True).head(20)"
   ]
  },
  {
   "cell_type": "code",
   "execution_count": 5,
   "id": "4156f8c6",
   "metadata": {},
   "outputs": [
    {
     "data": {
      "text/plain": [
       "<Axes: ylabel='Count'>"
      ]
     },
     "execution_count": 5,
     "metadata": {},
     "output_type": "execute_result"
    },
    {
     "data": {
      "image/png": "[encoded data removed]",
      "text/plain": [
       "<Figure size 640x480 with 1 Axes>"
      ]
     },
     "metadata": {},
     "output_type": "display_data"
    }
   ],
   "source": [
    "sns.histplot(data['experience_years']) "
   ]
  },
  {
   "cell_type": "code",
   "execution_count": 8,
   "id": "a68078f0",
   "metadata": {},
   "outputs": [
    {
     "data": {
      "text/plain": [
       "[{'country': 'USA', 'count': 3600},\n",
       " {'country': 'India', 'count': 1120},\n",
       " {'country': 'Japan', 'count': 400},\n",
       " {'country': 'Ireland', 'count': 400},\n",
       " {'country': 'Mexico', 'count': 320},\n",
       " {'country': 'Taiwan', 'count': 240},\n",
       " {'country': 'Poland', 'count': 240},\n",
       " {'country': 'Canada', 'count': 240},\n",
       " {'country': 'Australia', 'count': 240},\n",
       " {'country': 'Israel', 'count': 160},\n",
       " {'country': 'Switzerland', 'count': 160},\n",
       " {'country': 'UK', 'count': 160},\n",
       " {'country': 'Germany', 'count': 160},\n",
       " {'country': 'South Korea', 'count': 80},\n",
       " {'country': 'Netherlands', 'count': 80},\n",
       " {'country': 'Singapore', 'count': 80},\n",
       " {'country': 'Romania', 'count': 80},\n",
       " {'country': 'Brazil', 'count': 80},\n",
       " {'country': 'Malaysia', 'count': 80},\n",
       " {'country': 'Argentina', 'count': 80}]"
      ]
     },
     "execution_count": 8,
     "metadata": {},
     "output_type": "execute_result"
    }
   ],
   "source": [
    "country_counts = (\n",
    "    data.group_by('country')\n",
    "        .agg(pl.len().alias('count'))\n",
    "        .sort('count', descending=True)\n",
    "        .to_dicts()\n",
    ")\n",
    "\n",
    "with open('../data/country_pie.json', 'w') as f:\n",
    "    json.dump(country_counts, f, ensure_ascii=False, indent=2)\n",
    "country_counts"
   ]
  },
  {
   "cell_type": "code",
   "execution_count": 16,
   "id": "0071cfb9",
   "metadata": {},
   "outputs": [],
   "source": [
    "import numpy as np\n",
    "\n",
    "table_data = []\n",
    "for level in data['level'].unique():\n",
    "    df_level = data.filter(pl.col('level') == level)\n",
    "    reqs = df_level.explode('requirements')['requirements']\n",
    "    if len(reqs) > 0:\n",
    "        most_freq_req = reqs.value_counts().sort('count', descending=True)['requirements'][0]\n",
    "    else:\n",
    "        most_freq_req = \"\"\n",
    "    med_exp = int(np.median(df_level['experience_years']))\n",
    "    med_nreq = int(np.median(df_level['n_requirements']))\n",
    "    table_data.append({\n",
    "        \"level\": level.capitalize().replace('_', ' '),\n",
    "        \"most_frequent_requirement\": most_freq_req,\n",
    "        \"median_experience_years\": med_exp,\n",
    "        \"median_n_requirements\": med_nreq\n",
    "    })\n",
    "    table_data = sorted(table_data, key=lambda x: x['median_experience_years'], reverse=True)\n",
    "\n",
    "with open('../data/level_table.json', 'w') as f:\n",
    "    json.dump(table_data, f, ensure_ascii=False, indent=2)"
   ]
  },
  {
   "cell_type": "code",
   "execution_count": 7,
   "id": "b4f55a0c",
   "metadata": {},
   "outputs": [],
   "source": [
    "data.write_json('../data/requirements_dashboard.json')"
   ]
  }
 ],
 "metadata": {
  "kernelspec": {
   "display_name": "main",
   "language": "python",
   "name": "python3"
  },
  "language_info": {
   "codemirror_mode": {
    "name": "ipython",
    "version": 3
   },
   "file_extension": ".py",
   "mimetype": "text/x-python",
   "name": "python",
   "nbconvert_exporter": "python",
   "pygments_lexer": "ipython3",
   "version": "3.13.2"
  }
 },
 "nbformat": 4,
 "nbformat_minor": 5
}
