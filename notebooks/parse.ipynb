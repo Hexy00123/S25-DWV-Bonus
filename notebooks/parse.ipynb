{
 "cells": [
  {
   "cell_type": "code",
   "execution_count": 1,
   "id": "846d95f6",
   "metadata": {},
   "outputs": [],
   "source": [
    "import requests\n",
    "from bs4 import BeautifulSoup\n",
    "from tqdm.auto import tqdm\n",
    "import json"
   ]
  },
  {
   "cell_type": "code",
   "execution_count": 2,
   "id": "96c010ec",
   "metadata": {},
   "outputs": [],
   "source": [
    "base_url = \"https://www.google.com/about/careers/applications/jobs/results\"  "
   ]
  },
  {
   "cell_type": "code",
   "execution_count": 3,
   "id": "5fd91061",
   "metadata": {},
   "outputs": [],
   "source": [
    "def get_vacancies(level: str, pages: int, tqdm_: bool=False) -> list:\n",
    "  vacancies = []\n",
    "  \n",
    "  bar = tqdm(range(1, pages + 1), desc=f'Vacancies for {level}') if tqdm_ else range(1, pages + 1)\n",
    "  for _ in bar:  \n",
    "    data = requests.get(base_url, params={'page': 1, 'target_level': level}) \n",
    "    \n",
    "    if data.status_code != 200:\n",
    "      print(f\"Error: {data.status_code} - {data.reason}\") \n",
    "      continue\n",
    "    \n",
    "    soup = BeautifulSoup(data.text, 'html.parser')\n",
    "    for i in soup.find('main').find_all('ul')[0]: \n",
    "      vacancies.append({\n",
    "        'title': i.h3.text,\n",
    "        'requirements': [t.text for t in i.find_all('li')][:-2], \n",
    "        'level': level,\n",
    "        'place': [t.text for t in i.find_all('span')][3], \n",
    "      })\n",
    "      vacancies[-1]['country'] = vacancies[-1]['place'].split(',')[-1] \n",
    "     \n",
    "  return vacancies"
   ]
  },
  {
   "cell_type": "code",
   "execution_count": 4,
   "id": "4aafd22a",
   "metadata": {},
   "outputs": [
    {
     "data": {
      "application/vnd.jupyter.widget-view+json": {
       "model_id": "b03b431ec444447a8dd8c1aeadc1eaf5",
       "version_major": 2,
       "version_minor": 0
      },
      "text/plain": [
       "Vacancies for INTERN_AND_APPRENTICE:   0%|          | 0/80 [00:00<?, ?it/s]"
      ]
     },
     "metadata": {},
     "output_type": "display_data"
    },
    {
     "data": {
      "application/vnd.jupyter.widget-view+json": {
       "model_id": "e67ab92ccb3440469dda725703030da4",
       "version_major": 2,
       "version_minor": 0
      },
      "text/plain": [
       "Vacancies for EARLY:   0%|          | 0/80 [00:00<?, ?it/s]"
      ]
     },
     "metadata": {},
     "output_type": "display_data"
    },
    {
     "data": {
      "application/vnd.jupyter.widget-view+json": {
       "model_id": "cc0eac0658924bf68f88e0bad532cda5",
       "version_major": 2,
       "version_minor": 0
      },
      "text/plain": [
       "Vacancies for MID:   0%|          | 0/80 [00:00<?, ?it/s]"
      ]
     },
     "metadata": {},
     "output_type": "display_data"
    },
    {
     "data": {
      "application/vnd.jupyter.widget-view+json": {
       "model_id": "4556800901ea4e5d9165672e6e77ebe9",
       "version_major": 2,
       "version_minor": 0
      },
      "text/plain": [
       "Vacancies for ADVANCED:   0%|          | 0/80 [00:00<?, ?it/s]"
      ]
     },
     "metadata": {},
     "output_type": "display_data"
    },
    {
     "data": {
      "application/vnd.jupyter.widget-view+json": {
       "model_id": "be01fc0a3a63490abc00ee5941b85af2",
       "version_major": 2,
       "version_minor": 0
      },
      "text/plain": [
       "Vacancies for DIRECTOR_PLUS:   0%|          | 0/80 [00:00<?, ?it/s]"
      ]
     },
     "metadata": {},
     "output_type": "display_data"
    }
   ],
   "source": [
    "all_vacancies = []  \n",
    "\n",
    "for level in ['INTERN_AND_APPRENTICE', 'EARLY', 'MID', 'ADVANCED', 'DIRECTOR_PLUS']:\n",
    "  all_vacancies += get_vacancies(level, 80, True)"
   ]
  },
  {
   "cell_type": "code",
   "execution_count": 5,
   "id": "6725099e",
   "metadata": {},
   "outputs": [
    {
     "data": {
      "text/plain": [
       "8000"
      ]
     },
     "execution_count": 5,
     "metadata": {},
     "output_type": "execute_result"
    }
   ],
   "source": [
    "len(all_vacancies)"
   ]
  },
  {
   "cell_type": "code",
   "execution_count": 6,
   "id": "1db36c2a",
   "metadata": {},
   "outputs": [],
   "source": [
    "json.dump(all_vacancies, open('google_vacancies.json', 'w'), indent=4, ensure_ascii=False)"
   ]
  }
 ],
 "metadata": {
  "kernelspec": {
   "display_name": "main",
   "language": "python",
   "name": "python3"
  },
  "language_info": {
   "codemirror_mode": {
    "name": "ipython",
    "version": 3
   },
   "file_extension": ".py",
   "mimetype": "text/x-python",
   "name": "python",
   "nbconvert_exporter": "python",
   "pygments_lexer": "ipython3",
   "version": "3.13.2"
  }
 },
 "nbformat": 4,
 "nbformat_minor": 5
}
